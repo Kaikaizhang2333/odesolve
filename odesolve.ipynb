{
 "cells": [
  {
   "cell_type": "markdown",
   "id": "a642d2cc",
   "metadata": {},
   "source": [
    "# Odesolve Report\n",
    "----"
   ]
  },
  {
   "cell_type": "markdown",
   "id": "ad76196b",
   "metadata": {},
   "source": [
    "### This report is to show the meaning of each part of the function and how it work to caclulate the data."
   ]
  },
  {
   "cell_type": "markdown",
   "id": "f30bf1d5",
   "metadata": {},
   "source": [
    ">1 Function euler "
   ]
  },
  {
   "cell_type": "code",
   "execution_count": 1,
   "id": "4fe533a5",
   "metadata": {},
   "outputs": [],
   "source": [
    "def euler(f, x, t, h):\n",
    "    return x+f(x,t)*h"
   ]
  },
  {
   "cell_type": "markdown",
   "id": "23c6ec59",
   "metadata": {},
   "source": [
    ">2 Function rk4 "
   ]
  },
  {
   "cell_type": "code",
   "execution_count": 2,
   "id": "0edd248a",
   "metadata": {},
   "outputs": [],
   "source": [
    "def rk4(f, x, t, h):\n",
    "    k_1=f(x,t)\n",
    "    k_2=f(x+k_1*h/2,t+h/2)\n",
    "    k_3=f(x+k_2*h/2,t+h/2)\n",
    "    k_4=f(x+k_3*h,t+h)\n",
    "    return x+(k_1+2*k_2+2*k_3+k_4)*h/6"
   ]
  },
  {
   "cell_type": "markdown",
   "id": "221941d6",
   "metadata": {},
   "source": [
    ">3 Function solveto"
   ]
  },
  {
   "cell_type": "code",
   "execution_count": 3,
   "id": "5216237e",
   "metadata": {},
   "outputs": [],
   "source": [
    "def solveto(f, x1, t1, t2, hmax, method=euler):\n",
    "    A=divmod((t2-t1),hmax)\n",
    "    B=A[0]\n",
    "    B=int(B)\n",
    "    C=A[1]\n",
    "    C=round(C,10)\n",
    "    N=0\n",
    "    if t2-t1==0:\n",
    "        x_2=1\n",
    "        return x_2\n",
    "    if method == euler and t2-t1!=0:\n",
    "     for N in range (N,B):\n",
    "        N=N+1\n",
    "        x_2=euler(f,x1,t1,hmax)\n",
    "        x1=x_2\n",
    "        t1=t1+hmax\n",
    "        if C > 0:\n",
    "            x_2=euler(f,x1,t1,C)\n",
    "     return x_2\n",
    "    if method == rk4 and t2-t1!=0:\n",
    "      for N in range (N,B):\n",
    "          N=N+1\n",
    "          x_2 =rk4(f, x1, t1, hmax)\n",
    "          x1=x_2\n",
    "          t1=t1+hmax\n",
    "          if C > 0:\n",
    "              x_2=rk4(f, x1, t1, C)\n",
    "    return x_2"
   ]
  },
  {
   "cell_type": "markdown",
   "id": "5dc2bd0a",
   "metadata": {},
   "source": [
    "In the solveto function, i use the \"divmod\" to find how many times i need to calculate and i use the \"round\" to find the last step if there is a remainder.I also make a judge condition if t1=t2 ,then the result will be 1.Then i use a \"for in range\"loop to iterate the caclulation.At last return all the results."
   ]
  },
  {
   "cell_type": "markdown",
   "id": "81162eec",
   "metadata": {},
   "source": [
    ">4 Function odesolve"
   ]
  },
  {
   "cell_type": "code",
   "execution_count": 4,
   "id": "ac4119b1",
   "metadata": {},
   "outputs": [],
   "source": [
    "def odesolve(f, X0, t, hmax, method=euler):\n",
    "    import numpy as np\n",
    "    X0=X0[0]\n",
    "    t1=np.array(t)\n",
    "    N=divmod((t[-1]-t[0]),t[1])\n",
    "    M=N[0]\n",
    "    M=M+1\n",
    "    M=int(M)\n",
    "    i=0\n",
    "    x_2list=[]\n",
    "    if method ==euler:\n",
    "        for i in range (0,M):\n",
    "            x_2=solveto(f,X0,t1[i],1,hmax,euler)\n",
    "            i=i+1\n",
    "            x_2list.insert(0,x_2)\n",
    "        A=np.array(x_2list)\n",
    "        B=np.mat(A)\n",
    "        return B    \n",
    "    if method ==rk4:\n",
    "        for i in range (0,M):\n",
    "            x_2=solveto(f,X0,t1[i],1,hmax,rk4)\n",
    "            i=i+1\n",
    "            x_2list.insert(0,x_2)\n",
    "        A=np.array(x_2list)\n",
    "        B=np.mat(A)\n",
    "        return B"
   ]
  },
  {
   "cell_type": "markdown",
   "id": "f803fc31",
   "metadata": {},
   "source": [
    "In the odesolve function,i use \"np.array\" to make the input x1 into a list and then i use the \"divomd\" to find the steps.I make a judge condition to decide using euler method or rk4 method.I make an empty list to save the putput and then transpose it into an array and then transpose it into a matrix.I use \"for in \"loop to iterate the caclulation.At last return all the results."
   ]
  },
  {
   "cell_type": "markdown",
   "id": "abf14702",
   "metadata": {},
   "source": [
    ">5 Plot of two results"
   ]
  },
  {
   "cell_type": "code",
   "execution_count": 5,
   "id": "2d618e7d",
   "metadata": {},
   "outputs": [
    {
     "data": {
      "image/png": "[encoded data removed]",
      "text/plain": [
       "<Figure size 432x288 with 1 Axes>"
      ]
     },
     "metadata": {
      "needs_background": "light"
     },
     "output_type": "display_data"
    }
   ],
   "source": [
    "import numpy as np\n",
    "import matplotlib.pyplot as plt\n",
    "def f(x,t):\n",
    "    return x\n",
    "x0=[1]\n",
    "y0=[0]\n",
    "tvals=np.linspace(0,1,5)\n",
    "x_2=odesolve(f,x0,tvals,0.001,euler)\n",
    "y_2=odesolve(f,y0,tvals,0.001,rk4)\n",
    "plt.plot(tvals,x_2.T)\n",
    "plt.plot(tvals,y_2.T)\n",
    "plt.show()\n"
   ]
  },
  {
   "cell_type": "markdown",
   "id": "81afff34",
   "metadata": {},
   "source": [
    "In this function i need to plot the two results in one image.I import the plot modules as plt and use the initial conditions which is in the assignment file \"x\" for 1 and y for \"0\".Then i use the \"np.linspace\" to caclulate the time to plot the result and also the initial numerical value is from the test.odesolve file .At last i use \".T\" to transpose the array and plot the final image."
   ]
  },
  {
   "cell_type": "markdown",
   "id": "5fa33aec",
   "metadata": {},
   "source": [
    ">6 Plot of the error"
   ]
  },
  {
   "cell_type": "code",
   "execution_count": 6,
   "id": "5a537b10",
   "metadata": {},
   "outputs": [
    {
     "data": {
      "image/png": "[encoded data removed]",
      "text/plain": [
       "<Figure size 432x288 with 1 Axes>"
      ]
     },
     "metadata": {
      "needs_background": "light"
     },
     "output_type": "display_data"
    }
   ],
   "source": [
    "import matplotlib.pyplot as plt\n",
    "import math\n",
    "\n",
    "x_1=math.exp(1)\n",
    "h=0.01\n",
    "x_2_euler=solveto(f,1,0,1,h,euler)\n",
    "x_2_rk4=solveto(f,1,0,1,h,rk4)\n",
    "A=x_2_euler\n",
    "B=x_2_rk4\n",
    "Error_euler=x_1-A\n",
    "Error_rk4=x_1-B\n",
    "plt.plot(h,Error_euler)\n",
    "plt.plot(h,Error_rk4)\n",
    "\n",
    "plt.show()"
   ]
  },
  {
   "cell_type": "markdown",
   "id": "367f4a93",
   "metadata": {},
   "source": [
    "In this function i need to calculate the error between the true solution and the results by using euler and rk4 method.I import math module and use \"math.exp\"to be the true solution e.Then i set the initial conidtion for h is 0.01,then i use the solveto function to caclulate the results.At last i make a subtraction with the true solution e and those two results and plot them."
   ]
  }
 ],
 "metadata": {
  "kernelspec": {
   "display_name": "Python 3 (ipykernel)",
   "language": "python",
   "name": "python3"
  },
  "language_info": {
   "codemirror_mode": {
    "name": "ipython",
    "version": 3
   },
   "file_extension": ".py",
   "mimetype": "text/x-python",
   "name": "python",
   "nbconvert_exporter": "python",
   "pygments_lexer": "ipython3",
   "version": "3.9.7"
  }
 },
 "nbformat": 4,
 "nbformat_minor": 5
}
